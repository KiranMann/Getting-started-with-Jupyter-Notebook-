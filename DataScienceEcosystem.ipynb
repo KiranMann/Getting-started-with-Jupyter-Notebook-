{
 "cells": [
  {
   "cell_type": "markdown",
   "id": "1bdc3ad5-e036-44b2-a049-7d647278436b",
   "metadata": {},
   "source": [
    "# Data Science Tools and Ecosystem"
   ]
  },
  {
   "cell_type": "markdown",
   "id": "fcb3eb28-1d2d-438c-ae29-e9ea256dda1f",
   "metadata": {},
   "source": [
    "In this notebook, Data Science Tools and Ecosystem are summarized."
   ]
  },
  {
   "cell_type": "markdown",
   "id": "31b610d1-a180-42a4-b429-b1876986fbc0",
   "metadata": {},
   "source": [
    "Some of the most popular languages that Data Scients use are:\n",
    "1. Python\n",
    "2. R\n",
    "3. SQL\n",
    "4. Scala\n",
    "5. Julia"
   ]
  },
  {
   "cell_type": "markdown",
   "id": "aef92d43-7dba-465b-ad32-5132afb4d66c",
   "metadata": {},
   "source": [
    "| Data Science Tools                       |\n",
    "|------------------------------------------|\n",
    "| Python                                   |\n",
    "| R                                        |\n",
    "| SQL                                      |\n",
    "| Jupyter Notebook                         |\n",
    "| Pandas                                   |\n",
    "| Scikit-learn                             |\n",
    "| TensorFlow                               |\n",
    "| Tableau                                  |\n"
   ]
  },
  {
   "cell_type": "markdown",
   "id": "3d4d299b-8285-4b88-bc1b-77362328fd21",
   "metadata": {},
   "source": [
    "| Data Science Libraries                       |\n",
    "|------------------------------------------|\n",
    "| Numpy                                   |\n",
    "| Pandas                                        |\n",
    "| Keras                                      |\n",
    "| Seaborn                         |\n",
    "| Matplotlib                                   |\n",
    "| Scikit-learn                             |\n",
    "| Pytorch                               |\n",
    "                                 "
   ]
  },
  {
   "cell_type": "markdown",
   "id": "5d191226-7fcc-42ae-9c7b-a3f3f63ba288",
   "metadata": {},
   "source": [
    "### Below are a few examples of evaluating arithmetic expressions in Python"
   ]
  },
  {
   "cell_type": "code",
   "execution_count": 1,
   "id": "b6a274d6-19f9-4537-9980-915a3ae7d637",
   "metadata": {},
   "outputs": [
    {
     "data": {
      "text/plain": [
       "17"
      ]
     },
     "execution_count": 1,
     "metadata": {},
     "output_type": "execute_result"
    }
   ],
   "source": [
    "# This a simple arithmetic expression to mutiply then add integers\n",
    "(3*4)+5"
   ]
  },
  {
   "cell_type": "code",
   "execution_count": 2,
   "id": "71603c75-9d9f-4b43-8a53-b2158ddaa8cd",
   "metadata": {},
   "outputs": [
    {
     "data": {
      "text/plain": [
       "3.3333333333333335"
      ]
     },
     "execution_count": 2,
     "metadata": {},
     "output_type": "execute_result"
    }
   ],
   "source": [
    "# This will convert 200 minutes to hours by diving by 60\n",
    "minutes = 200\n",
    "hours= minutes/60\n",
    "hours"
   ]
  },
  {
   "cell_type": "markdown",
   "id": "24b03b79-6ba3-4713-bbf6-82d482b4fb3d",
   "metadata": {},
   "source": [
    "**Objectives**\n",
    "- Create markdown cell with title of the notebook\n",
    "- Create a markdown cell to list data science languages\n",
    "- Create a markdown cell to list data science libraries\n",
    "- Create a markdown cell with a table of Data Science tools\n",
    "- Create a markdown cell introducing arithmetic expression examples.\n"
   ]
  },
  {
   "cell_type": "markdown",
   "id": "06984ee5-0c87-4765-889e-a56966c6e6a9",
   "metadata": {},
   "source": [
    "## KIRAN MANN"
   ]
  }
 ],
 "metadata": {
  "kernelspec": {
   "display_name": "Python 3 (ipykernel)",
   "language": "python",
   "name": "python3"
  },
  "language_info": {
   "codemirror_mode": {
    "name": "ipython",
    "version": 3
   },
   "file_extension": ".py",
   "mimetype": "text/x-python",
   "name": "python",
   "nbconvert_exporter": "python",
   "pygments_lexer": "ipython3",
   "version": "3.9.12"
  }
 },
 "nbformat": 4,
 "nbformat_minor": 5
}
